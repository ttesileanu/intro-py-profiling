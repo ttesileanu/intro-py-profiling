{
 "cells": [
  {
   "cell_type": "markdown",
   "id": "c3e0ffd4-876a-4e93-8009-e9b9f15e2a1b",
   "metadata": {},
   "source": [
    "# Examples of code profiling"
   ]
  },
  {
   "cell_type": "markdown",
   "id": "fab683b7-ef1b-4670-976e-76694c0150fc",
   "metadata": {},
   "source": [
    "The `line_profiler` and `snakeviz` need to be installed separately. You can use `pip` or `conda`:\n",
    "```bash\n",
    "pip install line_profiler\n",
    "pip install snakeviz\n",
    "```\n",
    "or\n",
    "```bash\n",
    "conda install -c conda-forge line_profiler\n",
    "conda install snakeviz\n",
    "```"
   ]
  },
  {
   "cell_type": "code",
   "execution_count": null,
   "id": "f50f3843-5246-4068-abad-b2fb7bc6ed2d",
   "metadata": {},
   "outputs": [],
   "source": [
    "import numpy as np\n",
    "import time"
   ]
  },
  {
   "cell_type": "markdown",
   "id": "babb4ec9-663e-4dba-8bdf-8ce570fd500b",
   "metadata": {},
   "source": [
    "Generate some data."
   ]
  },
  {
   "cell_type": "code",
   "execution_count": null,
   "id": "acce116e-97e3-49f1-a71d-78b3a5af21f3",
   "metadata": {},
   "outputs": [],
   "source": [
    "rng = np.random.default_rng(0)\n",
    "a = rng.normal(size=(25, 25))\n",
    "b = rng.normal(size=(25))"
   ]
  },
  {
   "cell_type": "markdown",
   "id": "2205750c-41da-4ad7-b863-dad65e6a7a40",
   "metadata": {},
   "source": [
    "## Benchmarking"
   ]
  },
  {
   "cell_type": "markdown",
   "id": "4c6c8055-71ef-47ba-bbf8-2eb4dcfb6ca8",
   "metadata": {},
   "source": [
    "How long does it take to solve a linear system of equations? We can use the `time` module."
   ]
  },
  {
   "cell_type": "code",
   "execution_count": null,
   "id": "f026f9ee-28ac-408a-b46b-27a68098f966",
   "metadata": {},
   "outputs": [],
   "source": [
    "t0 = time.time()\n",
    "np.linalg.solve(a, b)\n",
    "t1 = time.time()\n",
    "print(f\"Took {(t1 - t0) * 1000:.2g}ms.\")"
   ]
  },
  {
   "cell_type": "markdown",
   "id": "ed6e0466-64d5-4585-86bb-b899b5e28bb8",
   "metadata": {},
   "source": [
    "We can also use a Jupyter \"magic\":"
   ]
  },
  {
   "cell_type": "code",
   "execution_count": null,
   "id": "9e1c0c9a-d8a3-46b0-86f0-b987b6ef5414",
   "metadata": {},
   "outputs": [],
   "source": [
    "%time sum(range(100_000_000))"
   ]
  },
  {
   "cell_type": "code",
   "execution_count": null,
   "id": "82f3b40f-d8cf-49e2-8eb7-effb9f87ae63",
   "metadata": {},
   "outputs": [],
   "source": [
    "%time np.linalg.solve(a, b)"
   ]
  },
  {
   "cell_type": "markdown",
   "id": "91831729-591c-4592-96d2-41c1974ab1d8",
   "metadata": {},
   "source": [
    "But is this accurate? For very short times, it is not.\n",
    "\n",
    "In such cases, the `%timeit` magic is better. It (a) loops the code multiple times to ensure that we can measure the timing accurately even when the code runs very fast; and (b) it repeats the whole thing a few times to get a better sense of the average time and its variability."
   ]
  },
  {
   "cell_type": "code",
   "execution_count": null,
   "id": "258eea03-f079-4ed9-93b6-dfa37b963d6d",
   "metadata": {},
   "outputs": [],
   "source": [
    "%timeit np.linalg.solve(a, b)"
   ]
  },
  {
   "cell_type": "markdown",
   "id": "2f727d14-c87c-495d-8db2-58c555e34b9d",
   "metadata": {},
   "source": [
    "We can use `%%timeit` to benchmark an entire cell instead of a single line."
   ]
  },
  {
   "cell_type": "code",
   "execution_count": null,
   "id": "5f08c6ce-c57a-4df2-a555-901620727ce6",
   "metadata": {},
   "outputs": [],
   "source": [
    "%%timeit\n",
    "a = rng.normal(size=(25, 25))\n",
    "b = rng.normal(size=(25))\n",
    "np.linalg.solve(a, b)"
   ]
  },
  {
   "cell_type": "markdown",
   "id": "a04c1d9b-65fa-40e0-b720-acf3a5d82879",
   "metadata": {},
   "source": [
    "We can even store the results from `%timeit` into a variable to inspect later."
   ]
  },
  {
   "cell_type": "code",
   "execution_count": null,
   "id": "922ccd43-078c-4728-995d-c2d17bddf78b",
   "metadata": {},
   "outputs": [],
   "source": [
    "time_results = %timeit -o np.linalg.solve(a, b)"
   ]
  },
  {
   "cell_type": "code",
   "execution_count": null,
   "id": "39b22cdb-dff2-4431-bd19-935a912fe124",
   "metadata": {},
   "outputs": [],
   "source": [
    "time_results.all_runs"
   ]
  },
  {
   "cell_type": "markdown",
   "id": "56f8b745-c5ba-4848-8c2b-a8d16f6f1e75",
   "metadata": {},
   "source": [
    "The results contain a bunch of details about the runs."
   ]
  },
  {
   "cell_type": "code",
   "execution_count": null,
   "id": "7837f3d0-961a-4d0a-b8e0-e824f2d174f1",
   "metadata": {},
   "outputs": [],
   "source": [
    "[member for member in dir(time_results) if not member.startswith(\"_\")]"
   ]
  },
  {
   "cell_type": "markdown",
   "id": "397260d8-9dd9-4dbc-8907-4dacd4b49d3e",
   "metadata": {},
   "source": [
    "## Profiling"
   ]
  },
  {
   "cell_type": "markdown",
   "id": "9b89c467-04aa-4384-8a8f-6de7a8f93697",
   "metadata": {},
   "source": [
    "If we want to know which functions take the longest time to execute, we can use `%%prun` (or `%prun` for a single line)."
   ]
  },
  {
   "cell_type": "code",
   "execution_count": null,
   "id": "67333eec-c916-4249-bd58-fb728caedb61",
   "metadata": {},
   "outputs": [],
   "source": [
    "%%prun\n",
    "a = rng.normal(size=(25, 25))\n",
    "b = rng.normal(size=(25))\n",
    "np.linalg.solve(a, b)"
   ]
  },
  {
   "cell_type": "markdown",
   "id": "aaf99794-7ea2-407a-ab99-86ad897d53f9",
   "metadata": {},
   "source": [
    "### Line-by-line profiling"
   ]
  },
  {
   "cell_type": "markdown",
   "id": "cbe51c6e-39a5-4b05-aae6-e89ade69a43c",
   "metadata": {},
   "source": [
    "It's also possible to profile line-by-line using the `line_profiler` package. "
   ]
  },
  {
   "cell_type": "code",
   "execution_count": null,
   "id": "ad023371-782e-4d10-8dd8-4cfb1f50bb1a",
   "metadata": {},
   "outputs": [],
   "source": [
    "%load_ext line_profiler"
   ]
  },
  {
   "cell_type": "markdown",
   "id": "6d66f4f6-3ce9-4b0e-8063-f8c12b598d97",
   "metadata": {},
   "source": [
    "`line_profiler` needs to act on functions."
   ]
  },
  {
   "cell_type": "code",
   "execution_count": null,
   "id": "8acf0619-269b-4dfe-9b60-0805a7d503ae",
   "metadata": {},
   "outputs": [],
   "source": [
    "def task():\n",
    "    a = rng.normal(size=(25, 25))\n",
    "    b = rng.normal(size=(25))\n",
    "    x = np.linalg.solve(a, b)\n",
    "    return x"
   ]
  },
  {
   "cell_type": "code",
   "execution_count": null,
   "id": "f905d091-eace-4aaf-b858-7222c1afc9d6",
   "metadata": {},
   "outputs": [],
   "source": [
    "%lprun -f task task()"
   ]
  },
  {
   "cell_type": "markdown",
   "id": "1e404593-b945-4c39-9c85-7aacc010239f",
   "metadata": {},
   "source": [
    "### Visualizing the results"
   ]
  },
  {
   "cell_type": "markdown",
   "id": "3cfc3818-4daf-43cc-a4c7-be899ce0fec1",
   "metadata": {},
   "source": [
    "Can also use the `snakeviz` package to collect and visualize the profiling results."
   ]
  },
  {
   "cell_type": "code",
   "execution_count": null,
   "id": "2e272ffa-945b-44b1-a8d6-4b8730c2209b",
   "metadata": {},
   "outputs": [],
   "source": [
    "%load_ext snakeviz"
   ]
  },
  {
   "cell_type": "code",
   "execution_count": null,
   "id": "d9b5400a-e3db-4795-b2e7-e13728fc81c4",
   "metadata": {},
   "outputs": [],
   "source": [
    "%%snakeviz\n",
    "a = rng.normal(size=(25, 25))\n",
    "b = rng.normal(size=(25))\n",
    "np.linalg.solve(a, b)"
   ]
  },
  {
   "cell_type": "code",
   "execution_count": null,
   "id": "51ac3c3a-f862-4e38-a389-f7e9e0e56717",
   "metadata": {},
   "outputs": [],
   "source": []
  }
 ],
 "metadata": {
  "kernelspec": {
   "display_name": "Python 3 (ipykernel)",
   "language": "python",
   "name": "python3"
  },
  "language_info": {
   "codemirror_mode": {
    "name": "ipython",
    "version": 3
   },
   "file_extension": ".py",
   "mimetype": "text/x-python",
   "name": "python",
   "nbconvert_exporter": "python",
   "pygments_lexer": "ipython3",
   "version": "3.9.16"
  }
 },
 "nbformat": 4,
 "nbformat_minor": 5
}
